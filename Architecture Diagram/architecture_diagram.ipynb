{
 "cells": [
  {
   "cell_type": "code",
   "execution_count": 2,
   "metadata": {},
   "outputs": [],
   "source": [
    "from diagrams import Diagram, Cluster, Edge\n",
    "from diagrams.onprem.workflow import Airflow\n",
    "from diagrams.aws.storage import S3\n",
    "from diagrams.programming.language import Python\n",
    "from diagrams.custom import Custom\n",
    "\n",
    "# Define the visual context\n",
    "graph_attr = {\n",
    "    \"fontsize\": \"10\",       # Font size for the text\n",
    "    \"size\": \"10,10\",        # Diagram width and height (inches)\n",
    "    \"nodesep\": \"0.3\",       # Reduce spacing between nodes\n",
    "    \"ranksep\": \"0.5\",       # Reduce vertical spacing between levels\n",
    "    \"dpi\": \"250\"            # Dots per inch (increase this to improve resolution)\n",
    "}\n",
    "\n",
    "filename = \"flow_diagram\"\n",
    "\n",
    "with Diagram(\"Airflow Data Pipeline with FastAPI\", show=False, direction=\"LR\", graph_attr=graph_attr, filename=filename):\n",
    "    # Data Ingestion with Airflow\n",
    "    with Cluster(\"Data Ingestion Pipeline\"):\n",
    "        airflow = Airflow(\"Airflow Trigger\")\n",
    "        scraper = Python(\"Scraper\")\n",
    "        storage_s3 = S3(\"S3: PDF & Images\")\n",
    "        structured_data_snowflake = Custom(\"Snowflake: Structured Data\", \"/Users/nishitamatlani/Documents/Assignment_3/Architecture Diagram/images/snowflake.png\")\n",
    "\n",
    "        # Workflow connections in the Data Ingestion Pipeline\n",
    "        airflow >> Edge(label=\"Trigger Scraping\", minlen=\"2\") >> scraper\n",
    "        scraper >> Edge(label=\"Store PDFs & Images\", minlen=\"2\") >> storage_s3\n",
    "        scraper >> Edge(label=\"Store Structured Data\", minlen=\"2\") >> structured_data_snowflake\n",
    "        storage_s3 >> Edge(label=\"Pdf/Image Links\") >> structured_data_snowflake\n",
    "\n",
    "    # Client-Facing Application Cluster with optimized layout\n",
    "    with Cluster(\"Client-Facing Application\", graph_attr={\"pad\": \"1\"}):\n",
    "        fastapi_service = Custom(\"FastAPI\", \"/Users/nishitamatlani/Documents/Assignment_3/Architecture Diagram/images/FastAPI.png\")\n",
    "        nvidia_nemo = Custom(\"NVIDIA NeMo (NIM)\", \"/Users/nishitamatlani/Documents/Assignment_3/Architecture Diagram/images/nvidia.png\")\n",
    "        streamlit_app = Custom(\"Streamlit UI\", \"/Users/nishitamatlani/Documents/Assignment_3/Architecture Diagram/images/Streamlit.png\")\n",
    "        \n",
    "        # Connections with optimized alignment\n",
    "        storage_s3 >> Edge(label=\"Provide Access to Files\", minlen=\"2\") >> fastapi_service\n",
    "        fastapi_service >> Edge(label=\"Generate Summaries, Q/A\", minlen=\"2\") >> nvidia_nemo\n",
    "        nvidia_nemo >> Edge(label=\"Process and Respond\", minlen=\"2\") >> fastapi_service\n",
    "        fastapi_service >> Edge(label=\"Serve Data\", minlen=\"2\") >> streamlit_app\n"
   ]
  },
  {
   "cell_type": "code",
   "execution_count": null,
   "metadata": {},
   "outputs": [],
   "source": []
  }
 ],
 "metadata": {
  "kernelspec": {
   "display_name": "Python 3",
   "language": "python",
   "name": "python3"
  },
  "language_info": {
   "codemirror_mode": {
    "name": "ipython",
    "version": 3
   },
   "file_extension": ".py",
   "mimetype": "text/x-python",
   "name": "python",
   "nbconvert_exporter": "python",
   "pygments_lexer": "ipython3",
   "version": "3.12.4"
  }
 },
 "nbformat": 4,
 "nbformat_minor": 2
}
